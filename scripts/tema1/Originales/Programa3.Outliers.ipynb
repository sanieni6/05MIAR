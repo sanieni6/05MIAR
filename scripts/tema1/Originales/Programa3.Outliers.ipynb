{
 "cells": [
  {
   "cell_type": "markdown",
   "metadata": {},
   "source": [
    "## DETECCIÓN DE OUTLIERS"
   ]
  },
  {
   "cell_type": "code",
   "execution_count": null,
   "metadata": {},
   "outputs": [],
   "source": [
    "import pandas as pd\n",
    "import numpy as np\n",
    "from scipy import stats\n",
    "from sklearn.covariance import EllipticEnvelope\n",
    "import matplotlib.pyplot as plt"
   ]
  },
  {
   "cell_type": "code",
   "execution_count": null,
   "metadata": {},
   "outputs": [],
   "source": [
    "# Carga de datos.\n",
    "df = pd.read_csv(\"outliers.csv\")\n",
    "print(df)"
   ]
  },
  {
   "cell_type": "markdown",
   "metadata": {},
   "source": [
    "### 1) EllipticEnvelope()"
   ]
  },
  {
   "cell_type": "code",
   "execution_count": null,
   "metadata": {},
   "outputs": [],
   "source": [
    "# Entrenamos un objeto de tipo EllipticEnvelope\n",
    "algorithm = EllipticEnvelope(support_fraction=None, contamination=0.25, random_state=42)\n",
    "outlier_method = algorithm.fit(df)\n",
    "\n",
    "# Aplicamos el método de detección de outliers entrenado sobre nuesto dataset\n",
    "df_outliers = outlier_method.predict(df)\n",
    "print(df_outliers)\n",
    "\n",
    "# Determinar la posición de los outliers\n",
    "pos_outliers = np.where(df_outliers==-1)[0]\n",
    "print('\\nOutliers en la posición: \\n', pos_outliers)\n",
    "\n",
    "# Determinar el número de outliers\n",
    "print('\\nNúmero de outliers: \\n', len(pos_outliers))"
   ]
  },
  {
   "cell_type": "code",
   "execution_count": null,
   "metadata": {},
   "outputs": [],
   "source": [
    "# Definimos una función que, dado un determinado \"df\" y un \"algorithm\", devuelva la matriz y la posición de outliers\n",
    "def find_outliers(df, algorithm):\n",
    "    \n",
    "    # ???\n",
    "\n",
    "    return df_outliers, pos_outliers"
   ]
  },
  {
   "cell_type": "markdown",
   "metadata": {},
   "source": [
    "### 2) Otros métodos similares"
   ]
  },
  {
   "cell_type": "code",
   "execution_count": null,
   "metadata": {},
   "outputs": [],
   "source": [
    "from sklearn.ensemble import IsolationForest\n",
    "from sklearn.svm import OneClassSVM\n",
    "from sklearn.neighbors import LocalOutlierFactor\n",
    "\n",
    "# IF = ???\n",
    "# OC_SVM = ???\n",
    "# LOF = ???\n",
    "\n",
    "df_outliers, pos_outliers = find_outliers(df, IF)\n",
    "print(len(pos_outliers))"
   ]
  },
  {
   "cell_type": "code",
   "execution_count": null,
   "metadata": {},
   "outputs": [],
   "source": [
    "# Eliminamos los outliers\n",
    "new_df = df[df_outliers==1]\n",
    "print(new_df)"
   ]
  },
  {
   "cell_type": "markdown",
   "metadata": {},
   "source": [
    "### 3) Box plot"
   ]
  },
  {
   "cell_type": "code",
   "execution_count": null,
   "metadata": {},
   "outputs": [],
   "source": [
    "# Seleccionamos el atributo que vamos a medir\n",
    "a = df['a']\n",
    "\n",
    "# Seleccionamos los umbrales a partir de los cuales vamos a considerar outliers\n",
    "Q1 = stats.scoreatpercentile(a, 25)\n",
    "Q3 = stats.scoreatpercentile(a, 75)\n",
    "RIC = Q3 - Q1\n",
    "li = Q1 - 1.5*RIC #xmin\n",
    "ls = Q3 + 1.5*RIC #xmax\n",
    "\n",
    "# Observamos los límites inferior y superior\n",
    "print('limite inferior: ', li)\n",
    "print('limite superior: ', ls)\n",
    "\n",
    "# Buscamos la posición de los outliers\n",
    "pos_i = np.where(a<li)[0]\n",
    "pos_s = np.where(a>ls)[0]\n",
    "pos_outliers = np.concatenate((pos_i, pos_s))\n",
    "print('Posición de outliers: ', pos_outliers)\n",
    "print('Número de outliers: ', len(pos_outliers))\n",
    "\n",
    "# Dibujamos el diagrama de caja y bigotes\n",
    "prop = plt.boxplot(a)\n",
    "plt.boxplot(a)\n",
    "plt.show()"
   ]
  },
  {
   "cell_type": "code",
   "execution_count": null,
   "metadata": {},
   "outputs": [],
   "source": [
    "# Definir una función que, dada una columna de un dataframe, devuelva la posición de los outliers según el método box plot\n",
    "def find_limits_BP(variable):\n",
    "    \n",
    "    # ???\n",
    "    \n",
    "    return pos_outliers\n"
   ]
  },
  {
   "cell_type": "code",
   "execution_count": null,
   "metadata": {},
   "outputs": [],
   "source": [
    "# Creamos un bucle for que estime los valores outliers de cada atributo\n",
    "headers = df.columns # nombre de los atributos del CSV\n",
    "pos_outliers = []\n",
    "for i in range(len(headers)):\n",
    "    variable = df[headers[i]] # Atributo 'x'\n",
    "    pos_out = np.expand_dims(find_limits_BP(variable), axis=1) # Llamamos a la función que hemos creado\n",
    "    pos_outliers.append(pos_out) # Lo añadimos en una lista\n",
    "\n",
    "# Concatenamos todas las posiciones de outliers\n",
    "po = np.vstack(pos_outliers)\n",
    "\n",
    "# Vemos las posiciones de todos los outliers\n",
    "pos_out = np.unique(po)\n",
    "print('Posiciones de outliers: ', pos_out)\n",
    "\n",
    "# Observamos el número de outliers\n",
    "print('Numero de outliers: ', len(pos_out))"
   ]
  }
 ],
 "metadata": {
  "kernelspec": {
   "display_name": "Python 3",
   "language": "python",
   "name": "python3"
  },
  "language_info": {
   "codemirror_mode": {
    "name": "ipython",
    "version": 3
   },
   "file_extension": ".py",
   "mimetype": "text/x-python",
   "name": "python",
   "nbconvert_exporter": "python",
   "pygments_lexer": "ipython3",
   "version": "3.8.5"
  }
 },
 "nbformat": 4,
 "nbformat_minor": 2
}
