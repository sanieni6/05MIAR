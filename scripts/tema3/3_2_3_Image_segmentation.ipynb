{
 "cells": [
  {
   "cell_type": "markdown",
   "metadata": {},
   "source": [
    "### SEGMENTACIÓN MEDIANTE THRESHOLDING"
   ]
  },
  {
   "cell_type": "code",
   "execution_count": null,
   "metadata": {},
   "outputs": [],
   "source": [
    "import matplotlib.pyplot as plt\n",
    "import cv2\n",
    "\n",
    "# Read an image\n",
    "img = cv2.imread('images/figuras.png')\n",
    "img_rgb = cv2.cvtColor(img, cv2.COLOR_BGR2RGB)\n",
    "plt.imshow(img_rgb, cmap='gray')\n",
    "plt.title('Imagen original')\n",
    "plt.show()"
   ]
  },
  {
   "cell_type": "code",
   "execution_count": null,
   "metadata": {},
   "outputs": [],
   "source": [
    "# Convertimos la imagen a escala de grises\n",
    "import numpy as np\n",
    "gray_img = cv2.cvtColor(img, cv2.COLOR_BGR2GRAY)\n",
    "#gray_img = cv2.imread('figuras.png', 0) # Una forma de leer la imagen directamente en escala de grises\n",
    "\n",
    "plt.imshow(gray_img, cmap='gray')\n",
    "plt.title('Imagen de grises')\n",
    "plt.show()"
   ]
  },
  {
   "cell_type": "code",
   "execution_count": null,
   "metadata": {},
   "outputs": [],
   "source": [
    "# Calculamos el histograma\n",
    "hist = cv2.calcHist([gray_img], [0], None, [260], [0, 260]) # [0] son los canales, None la máscara\n",
    "\n",
    "plt.plot(hist)\n",
    "plt.grid()\n",
    "plt.title('Histograma')\n",
    "plt.show()\n",
    "\n",
    "# Otra forma de mostrar el histograma (solo visualización)\n",
    "# plt.hist(gray_img.ravel(), bins=50)\n",
    "# plt.grid(True)\n",
    "# plt.show()"
   ]
  },
  {
   "cell_type": "code",
   "execution_count": null,
   "metadata": {},
   "outputs": [],
   "source": [
    "# Fijamos el umbral en base al histograma anterior\n",
    "t = 50\n",
    "\n",
    "# Extreaemos la máscara binaria\n",
    "maxim = 255\n",
    "_, mask = cv2.threshold(gray_img, t, maxim, cv2.THRESH_BINARY)\n",
    "\n",
    "# Otra formas de extraer la máscara \n",
    "# mask = gray_img.copy()\n",
    "# mask = mask>t\n",
    "\n",
    "# Visualizamos para corroborar\n",
    "plt.imshow(mask, cmap='gray')\n",
    "plt.title('Máscara t=' + str(t))\n",
    "plt.show()\n",
    "\n",
    "print(np.unique(mask)) # Atent@s a los formatos (bool, uint8, etc.)"
   ]
  },
  {
   "cell_type": "code",
   "execution_count": null,
   "metadata": {},
   "outputs": [],
   "source": [
    "# Fijamos el umbral con el método de OTSU\n",
    "t, mask = cv2.threshold(gray_img,0,1,cv2.THRESH_OTSU) # 0 es por defecto y 1 es el valor máximo de la máscara\n",
    "print(np.unique(mask))\n",
    "\n",
    "# Visualizamos para corroborar que se obtiene el mismo resultado\n",
    "plt.imshow(mask, cmap='gray')\n",
    "plt.title('Máscara Otsu t=' + str(t))\n",
    "plt.show()"
   ]
  },
  {
   "cell_type": "markdown",
   "metadata": {},
   "source": [
    "### SEGMENTACIÓN MEDIANTE CONVERSIONES DE COLOR"
   ]
  },
  {
   "cell_type": "code",
   "execution_count": null,
   "metadata": {},
   "outputs": [],
   "source": [
    "# Imaginamos que queremos segmentar únicamente el círculo\n",
    "img = cv2.imread('images/figuras.png')\n",
    "img_rgb = cv2.cvtColor(img, cv2.COLOR_BGR2RGB)\n",
    "\n",
    "plt.imshow(img_rgb, cmap='gray')\n",
    "plt.title('Imagen original')\n",
    "plt.show()"
   ]
  },
  {
   "cell_type": "code",
   "execution_count": null,
   "metadata": {},
   "outputs": [],
   "source": [
    "# Obtenemos el canal rojo\n",
    "R = img[:,:,2]\n",
    "\n",
    "plt.imshow(R, cmap='gray')\n",
    "plt.title('Canal rojo')\n",
    "plt.show()"
   ]
  },
  {
   "cell_type": "code",
   "execution_count": null,
   "metadata": {},
   "outputs": [],
   "source": [
    "# Observamos el histograma\n",
    "plt.hist(R.ravel(), bins=50)\n",
    "plt.grid(True)\n",
    "plt.show()\n",
    "print(np.max(R))"
   ]
  },
  {
   "cell_type": "code",
   "execution_count": null,
   "metadata": {},
   "outputs": [],
   "source": [
    "# Fijamos el umbral y extraemos la máscara\n",
    "t=np.max(R)\n",
    "mask = R.copy()\n",
    "mask[mask<t] = 0\n",
    "\n",
    "plt.imshow(mask, cmap='gray')\n",
    "plt.title('ROI segmentada')\n",
    "plt.show()"
   ]
  },
  {
   "cell_type": "code",
   "execution_count": null,
   "metadata": {},
   "outputs": [],
   "source": [
    "# Ejercicio individual\n",
    "# Obtener una máscara con la imagen del rayo azul mediante segmentación por espacio de color\n",
    "\n",
    "# Función para extraer los colores secundarios\n",
    "def convert_to_CMYK(rgb_p):\n",
    "    with np.errstate(invalid='ignore', divide='ignore'):\n",
    "        K = 1 - np.max(rgb_p, axis=2)\n",
    "        C = (1-rgb_p[:,:,0] - K)/(1-K)\n",
    "        M = (1-rgb_p[:,:,1] - K)/(1-K)\n",
    "        Y = (1-rgb_p[:,:,2] - K)/(1-K)\n",
    "    CMYK = (np.dstack((C,M,Y,K))*255).astype('uint8')\n",
    "    return CMYK\n",
    "\n",
    "# Leer la imagen \n",
    "img = cv2.imread('images/figuras.png')\n",
    "rgb = cv2.cvtColor(img, cv2.COLOR_BGR2RGB)\n",
    "rgb_p = rgb.astype('uint8')/255\n",
    "\n",
    "# Extraer los colores secundarios\n",
    "CMYK = ???\n",
    "\n",
    "# Extraer los canales por separado\n",
    "C,M,Y,K = ???\n",
    "C = C.astype('uint8')\n",
    "\n",
    "# Calcular la máscara de la figura del rayo\n",
    "???\n",
    "\n",
    "# Visualizar la máscara\n",
    "plt.imshow(C, cmap='gray')\n",
    "plt.title('ROI segmentada')\n",
    "plt.show()"
   ]
  },
  {
   "cell_type": "markdown",
   "metadata": {},
   "source": [
    "### SEGMENTACIÓN SEMÁNTICA CON DETECCIÓN DE BORDES"
   ]
  },
  {
   "cell_type": "code",
   "execution_count": null,
   "metadata": {},
   "outputs": [],
   "source": [
    "# SEGMENTACIÓN SEMÁNTICA CON DETECCIÓN DE BORDES\n",
    "img = cv2.imread('images/figuras.png')\n",
    "img_rgb = cv2.cvtColor(img, cv2.COLOR_BGR2RGB)\n",
    "\n",
    "plt.imshow(img_rgb)\n",
    "plt.title('Imagen original')\n",
    "plt.show()"
   ]
  },
  {
   "cell_type": "code",
   "execution_count": null,
   "metadata": {},
   "outputs": [],
   "source": [
    "# Aplicamos un filtro gaussiano para emborronar las altas frecuencias\n",
    "img_gaus = cv2.GaussianBlur(img_rgb, (5,5), 0) # (5x5) es el tamaño del filtro y 0 es la desviación estándar\n",
    "plt.imshow(img_gaus, cmap='gray')\n",
    "plt.show()"
   ]
  },
  {
   "cell_type": "code",
   "execution_count": null,
   "metadata": {},
   "outputs": [],
   "source": [
    "# Detección de bordes de Canny\n",
    "canny = cv2.Canny(img_gaus, 255/3, 255) # minValue and maxValue. Canny recomienda que minValue sea 3 veces mayor que maxValue\n",
    "kernel = np.ones((2,2), 'uint8')\n",
    "#canny = cv2.dilate(canny, kernel, iterations=2)\n",
    "#canny = cv2.erode(canny, kernel, iterations=2)\n",
    "\n",
    "plt.imshow(canny, cmap='gray')\n",
    "plt.show()"
   ]
  },
  {
   "cell_type": "code",
   "execution_count": null,
   "metadata": {},
   "outputs": [],
   "source": [
    "# Rellenar objetos (solo rellena si no están en contacto con el límite de la imagen)\n",
    "from scipy.ndimage.morphology import binary_fill_holes as bfh\n",
    "bordes = canny.copy()\n",
    "filled_bordes = bfh(bordes)\n",
    "\n",
    "plt.imshow(filled_bordes.astype('uint8'), cmap='gray')\n",
    "plt.title('cleaned lumen mask')\n",
    "plt.show()"
   ]
  },
  {
   "cell_type": "markdown",
   "metadata": {},
   "source": [
    "### SEGMENTACIÓN POR CRECIMIENTO DE REGIONES (region growing)"
   ]
  },
  {
   "cell_type": "code",
   "execution_count": null,
   "metadata": {},
   "outputs": [],
   "source": [
    "# Cargar imagen\n",
    "from skimage import io\n",
    "import cv2\n",
    "import numpy as np\n",
    "import matplotlib.pyplot as plt\n",
    "img = cv2.imread('images/estrellas.png', 0)\n",
    "\n",
    "plt.imshow(img, cmap='gray')\n",
    "plt.show()"
   ]
  },
  {
   "cell_type": "code",
   "execution_count": null,
   "metadata": {},
   "outputs": [],
   "source": [
    "# Crear una copia de la imagen\n",
    "mask = img.copy()\n",
    "\n",
    "# Definir una imagen negra de referencia\n",
    "h, w = img.shape\n",
    "ref = np.zeros((h+2, w+2), np.uint8)\n",
    "\n",
    "# Fijar la semilla. En este caso en la esquina superior izquierda (posición 0,0) para rellenar a partir de ahí\n",
    "cv2.floodFill(mask, ref, (0,0), 0); # Como nos interesa rellenar de negro, utilizamos el 0 en la última posición\n",
    "\n",
    "fig, ax = plt.subplots(1,2)\n",
    "ax[0].imshow(img, cmap='gray'), ax[0].set_title('original')\n",
    "ax[1].imshow(mask, cmap='gray'), ax[1].set_title('máscara')\n",
    "plt.show()"
   ]
  }
 ],
 "metadata": {
  "kernelspec": {
   "display_name": "Python 3",
   "language": "python",
   "name": "python3"
  },
  "language_info": {
   "codemirror_mode": {
    "name": "ipython",
    "version": 3
   },
   "file_extension": ".py",
   "mimetype": "text/x-python",
   "name": "python",
   "nbconvert_exporter": "python",
   "pygments_lexer": "ipython3",
   "version": "3.8.5"
  }
 },
 "nbformat": 4,
 "nbformat_minor": 4
}
