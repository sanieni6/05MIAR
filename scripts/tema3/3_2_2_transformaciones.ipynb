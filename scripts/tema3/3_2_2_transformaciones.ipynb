{
 "cells": [
  {
   "cell_type": "code",
   "execution_count": 3,
   "metadata": {},
   "outputs": [
    {
     "name": "stderr",
     "output_type": "stream",
     "text": [
      "[ WARN:0@113.924] global loadsave.cpp:275 findDecoder imread_('images/Lena_RGB.png'): can't open/read file: check file path/integrity\n"
     ]
    },
    {
     "ename": "FileNotFoundError",
     "evalue": "Could not read the image. Check the file path.",
     "output_type": "error",
     "traceback": [
      "\u001b[0;31m---------------------------------------------------------------------------\u001b[0m",
      "\u001b[0;31mFileNotFoundError\u001b[0m                         Traceback (most recent call last)",
      "Cell \u001b[0;32mIn[3], line 8\u001b[0m\n\u001b[1;32m      5\u001b[0m img \u001b[38;5;241m=\u001b[39m cv2\u001b[38;5;241m.\u001b[39mimread(\u001b[38;5;124m'\u001b[39m\u001b[38;5;124mimages/Lena_RGB.png\u001b[39m\u001b[38;5;124m'\u001b[39m)\n\u001b[1;32m      7\u001b[0m \u001b[38;5;28;01mif\u001b[39;00m img \u001b[38;5;129;01mis\u001b[39;00m \u001b[38;5;28;01mNone\u001b[39;00m:\n\u001b[0;32m----> 8\u001b[0m     \u001b[38;5;28;01mraise\u001b[39;00m \u001b[38;5;167;01mFileNotFoundError\u001b[39;00m(\u001b[38;5;124m\"\u001b[39m\u001b[38;5;124mCould not read the image. Check the file path.\u001b[39m\u001b[38;5;124m\"\u001b[39m)\n\u001b[1;32m     10\u001b[0m \u001b[38;5;28mprint\u001b[39m(\u001b[38;5;124m'\u001b[39m\u001b[38;5;124mImage dimensions: \u001b[39m\u001b[38;5;124m'\u001b[39m, np\u001b[38;5;241m.\u001b[39mshape(img))\n\u001b[1;32m     12\u001b[0m \u001b[38;5;66;03m# OpenCV loads images in BGR format; convert to RGB for correct display\u001b[39;00m\n",
      "\u001b[0;31mFileNotFoundError\u001b[0m: Could not read the image. Check the file path."
     ]
    }
   ],
   "source": [
    "import matplotlib.pyplot as plt\n",
    "import cv2\n",
    "import numpy as np\n",
    "\n",
    "img = cv2.imread('images/Lena_RGB.png')\n",
    "\n",
    "if img is None:\n",
    "    raise FileNotFoundError(\"Could not read the image. Check the file path.\")\n",
    "\n",
    "print('Image dimensions: ', np.shape(img))\n",
    "\n",
    "# OpenCV loads images in BGR format; convert to RGB for correct display\n",
    "img_rgb = cv2.cvtColor(img, cv2.COLOR_BGR2RGB)\n",
    "\n",
    "plt.imshow(img_rgb)\n",
    "plt.title(\"RGB Image\")\n",
    "plt.axis(\"off\")\n",
    "plt.show()"
   ]
  },
  {
   "cell_type": "code",
   "execution_count": null,
   "metadata": {},
   "outputs": [],
   "source": [
    "# Extraer por separado la imagen de grises de cada canal\n",
    "R = ???\n",
    "G = ???\n",
    "B = ???"
   ]
  },
  {
   "cell_type": "code",
   "execution_count": null,
   "metadata": {},
   "outputs": [],
   "source": [
    "# Visualizar los canales en un subplot\n",
    "fig, ax = plt.subplots(1,3)\n",
    "ax[0].imshow(R, cmap='gray'), ax[0].set_title('Red')\n",
    "ax[1].imshow(G, cmap='gray'), ax[1].set_title('Green')\n",
    "ax[2].imshow(B, cmap='gray'), ax[2].set_title('Blue')\n",
    "plt.show()"
   ]
  },
  {
   "cell_type": "code",
   "execution_count": null,
   "metadata": {},
   "outputs": [],
   "source": [
    "# Convertir BGR en RGB\n",
    "RGB_img = cv2.cvtColor(img, cv2.COLOR_BGR2RGB)\n",
    "plt.imshow(RGB_img, cmap='gray')\n",
    "plt.show()"
   ]
  },
  {
   "cell_type": "markdown",
   "metadata": {},
   "source": [
    "### TRANSFORMACIONES DE INTENSIDAD"
   ]
  },
  {
   "cell_type": "code",
   "execution_count": null,
   "metadata": {},
   "outputs": [],
   "source": [
    "# CAMBIO DE BRILLO\n",
    "img = cv2.imread('images/Lena_RGB.png')\n",
    "img = img[:,:,2] # red color\n",
    "\n",
    "mas_brillo = 50\n",
    "menos_brillo = -100\n",
    "mas_brillo_img = cv2.add(img, mas_brillo) # Importante el \"cv2.add\" en vez de \"+\"\n",
    "menos_brillo_img = cv2.add(img, menos_brillo)\n",
    "\n",
    "fig, ax = plt.subplots(1,3)\n",
    "ax[0].imshow(img, cmap='gray'), ax[0].set_title('original')\n",
    "ax[1].imshow(mas_brillo_img, cmap='gray'), ax[1].set_title('más brillo')\n",
    "ax[2].imshow(menos_brillo_img, cmap='gray'), ax[2].set_title('menos brillo')\n",
    "plt.show()"
   ]
  },
  {
   "cell_type": "code",
   "execution_count": null,
   "metadata": {},
   "outputs": [],
   "source": [
    "# CAMBIO DE CONTRASTE de acuerdo con el programa GIMP\n",
    "img = cv2.imread('images/Lena_RGB.png')\n",
    "img = img[:,:,1] # canal verde\n",
    "\n",
    "contraste = -100\n",
    "\n",
    "f = 131*(contraste + 127)/(127*(131-contraste))\n",
    "alpha_c = f\n",
    "gamma_c = 127*(1-f)\n",
    "\n",
    "contrast_img = cv2.addWeighted(img, alpha_c, img, 0, gamma_c)\n",
    "\n",
    "fig, ax = plt.subplots(1,2)\n",
    "ax[0].imshow(img, cmap='gray', vmin=0, vmax=255), ax[0].set_title('original')\n",
    "ax[1].imshow(contrast_img, cmap='gray', vmin=0, vmax=255), ax[1].set_title('contraste')\n",
    "plt.show()"
   ]
  },
  {
   "cell_type": "markdown",
   "metadata": {},
   "source": [
    "### CONVERSIONES DEL ESPACIO DE COLOR"
   ]
  },
  {
   "cell_type": "code",
   "execution_count": null,
   "metadata": {},
   "outputs": [],
   "source": [
    "# RGB to CMYK\n",
    "import numpy as np\n",
    "from skimage import io\n",
    "\n",
    "img = io.imread('images/colores.png')\n",
    "rgb = img.copy()\n",
    "rgb_p = rgb.astype('uint8')/255\n",
    "\n",
    "with np.errstate(invalid='ignore', divide='ignore'):\n",
    "    K = 1 - np.max(rgb_p, axis=2)\n",
    "    # Extrae los canales de acuerdo con la ecuación del power point\n",
    "    C = ???\n",
    "    M = ???\n",
    "    Y = ???\n",
    "\n",
    "CMYK = (np.dstack((C,M,Y,K))*255).astype('uint8')\n",
    "C,M,Y,K = cv2.split(CMYK)\n",
    "\n",
    "fig, ax = plt.subplots(2,3)\n",
    "ax[0,0].imshow(img, cmap='gray'), ax[0,0].set_title('original')\n",
    "ax[0,1].imshow(CMYK.astype('uint8'), cmap='gray'), ax[0,1].set_title('CMYK')\n",
    "ax[0,2].imshow(C.astype('uint8'), cmap='gray'), ax[0,2].set_title('cyan')\n",
    "ax[1,0].imshow(M.astype('uint8'), cmap='gray'), ax[1,0].set_xlabel('magenta')\n",
    "ax[1,1].imshow(Y.astype('uint8'), cmap='gray'), ax[1,1].set_xlabel('yellow')\n",
    "ax[1,2].imshow(K.astype('uint8'), cmap='gray'), ax[1,2].set_xlabel('black')\n",
    "plt.show()"
   ]
  },
  {
   "cell_type": "code",
   "execution_count": null,
   "metadata": {},
   "outputs": [],
   "source": [
    "# Otras conversiones\n",
    "\n",
    "img = cv2.imread('images/Lena_RGB.png')\n",
    "\n",
    "gray_img = cv2.cvtColor(img, cv2.COLOR_BGR2GRAY) # gray-scale\n",
    "\n",
    "HSV = cv2.cvtColor(img, cv2.COLOR_BGR2HSV) # (H)ue, (S)aturation and (V)alue\n",
    "\n",
    "Lab = cv2.cvtColor(img, cv2.COLOR_BGR2Lab) # (L)uminosidad, a-b colores complementarios\n",
    "\n",
    "YCrCb = cv2.cvtColor(img, cv2.COLOR_BGR2YCrCb) # Y-Luma, Cr-Cb crominancia rojo y azul\n"
   ]
  },
  {
   "cell_type": "markdown",
   "metadata": {},
   "source": [
    "### TRANSFORMACIONES GEOMÉTRICAS"
   ]
  },
  {
   "cell_type": "code",
   "execution_count": null,
   "metadata": {},
   "outputs": [],
   "source": [
    "# TRASLACIÓN\n",
    "img = io.imread('images/GOT.png')\n",
    "rows, cols, ch = img.shape\n",
    " \n",
    "M = np.float32([[1,0,280],[0,1,-80]]) # Defino la matriz de transformación\n",
    "new_img = cv2.warpAffine(img,M,(cols,rows)) # Aplico la transformación\n",
    "\n",
    "figs, ax = plt.subplots(1,2)\n",
    "ax[0].imshow(img, cmap='gray'), ax[0].set_title('original')\n",
    "ax[1].imshow(new_img, cmap='gray'), ax[1].set_title('traslación')\n",
    "plt.show()"
   ]
  },
  {
   "cell_type": "code",
   "execution_count": null,
   "metadata": {},
   "outputs": [],
   "source": [
    "# CROPPING\n",
    "img = io.imread('images/GOT.png')\n",
    "\n",
    "new_img = img[90:290, 200:305]\n",
    "\n",
    "figs, ax = plt.subplots(1,2)\n",
    "ax[0].imshow(img, cmap='gray'), ax[0].set_title('original')\n",
    "ax[1].imshow(new_img, cmap='gray'), ax[1].set_title('crop')\n",
    "plt.show()"
   ]
  },
  {
   "cell_type": "code",
   "execution_count": null,
   "metadata": {},
   "outputs": [],
   "source": [
    "# ROTACIÓN\n",
    "img = io.imread('images/GOT.png')\n",
    "rows, cols, ch = img.shape\n",
    "\n",
    "M = cv2.getRotationMatrix2D((cols/2,rows/2),angle=45,scale=2) # Defino la matriz de transformación\n",
    "new_img = cv2.warpAffine(img,M,(cols,rows)) # Aplico la transformación\n",
    "\n",
    "figs, ax = plt.subplots(1,2)\n",
    "ax[0].imshow(img, cmap='gray'), ax[0].set_title('original')\n",
    "ax[1].imshow(new_img, cmap='gray'), ax[1].set_title('rotación')\n",
    "plt.show()"
   ]
  },
  {
   "cell_type": "code",
   "execution_count": null,
   "metadata": {},
   "outputs": [],
   "source": [
    "# PERSPECTIVA\n",
    "img = cv2.imread('images/sudoku.png')\n",
    "rows, cols, ch = img.shape\n",
    " \n",
    "pts1 = np.float32([[56,65],[368,52],[28,387],[389,390]])\n",
    "pts2 = np.float32([[0,0],[300,0],[0,300],[300,300]])\n",
    "\n",
    "plt.imshow(img, cmap='gray')\n",
    "for i in range(0,4):\n",
    "    plt.plot(pts1[i,0], pts1[i,1], 'or', markersize=10)\n",
    "    plt.plot(pts2[i,0], pts2[i,1], 'ob', markersize=10)\n",
    "plt.title('Keypoints para perspectiva')\n",
    "plt.show()\n",
    " \n",
    "M = cv2.getPerspectiveTransform(pts1,pts2) # Defino la matriz de transformación\n",
    "pers = cv2.warpPerspective(img,M,(305,305)) # Aplico la transformación\n",
    "crop =  img[50:400,20:400]\n",
    "\n",
    "figs, ax = plt.subplots(1,2)\n",
    "ax[0].imshow(pers, cmap='gray'), ax[0].set_title('perspectiva')\n",
    "ax[1].imshow(crop, cmap='gray'), ax[1].set_title('crop')\n",
    "plt.show()\n"
   ]
  },
  {
   "cell_type": "code",
   "execution_count": null,
   "metadata": {},
   "outputs": [],
   "source": [
    "# FLIPPING\n",
    "\n",
    "# Leer la imagen \"Lena_RGB.png\" en formato RGB\n",
    "img = ???\n",
    "\n",
    "# Voltear la imagen para conseguir las siguientes transformaciones. Utiliza el método \"cv2.flip()\"\n",
    "  \n",
    "flipVertical = ???\n",
    "flipHorizontal = ???\n",
    "flipBoth = ???\n",
    " \n",
    "figs, ax = plt.subplots(1,4)\n",
    "ax[0].imshow(img, cmap='gray'), ax[0].set_title('original')\n",
    "ax[1].imshow(flipVertical, cmap='gray'), ax[1].set_title('flip vertical')\n",
    "ax[2].imshow(flipHorizontal, cmap='gray'), ax[2].set_title('flip horizontal')\n",
    "ax[3].imshow(flipBoth, cmap='gray'), ax[3].set_title('flip ambos')\n",
    "plt.show()"
   ]
  }
 ],
 "metadata": {
  "kernelspec": {
   "display_name": ".venv",
   "language": "python",
   "name": "python3"
  },
  "language_info": {
   "codemirror_mode": {
    "name": "ipython",
    "version": 3
   },
   "file_extension": ".py",
   "mimetype": "text/x-python",
   "name": "python",
   "nbconvert_exporter": "python",
   "pygments_lexer": "ipython3",
   "version": "3.9.6"
  }
 },
 "nbformat": 4,
 "nbformat_minor": 4
}
