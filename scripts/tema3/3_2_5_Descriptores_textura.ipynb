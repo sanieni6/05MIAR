{
 "cells": [
  {
   "cell_type": "code",
   "execution_count": null,
   "metadata": {},
   "outputs": [],
   "source": [
    "# En primer lugar, obtenemos la máscara de la imagen original mediante la umbralización con Otsu\n",
    "import matplotlib.pyplot as plt\n",
    "import cv2\n",
    "import numpy as np\n",
    "img = cv2.imread('images/photographer.png')\n",
    "\n",
    "window = cv2.rectangle(img.copy(), (400,80), (420,100), (0, 0, 255), 5)\n",
    "window = cv2.rectangle(window, (490,490), (510,510), (0, 255, 0), 5)\n",
    "plt.imshow(window, cmap='gray')\n",
    "plt.show()"
   ]
  },
  {
   "cell_type": "code",
   "execution_count": null,
   "metadata": {},
   "outputs": [],
   "source": [
    "# Seleccionamos una región del cielo y una de la hierba\n",
    "cielo = img[80:100, 400:420]\n",
    "hierba = img[490:510, 490:510]\n",
    "\n",
    "fig, ax = plt.subplots(1,2)\n",
    "ax[0].imshow(cielo, cmap='gray')\n",
    "ax[0].set_title('cielo')\n",
    "ax[1].imshow(hierba, cmap='gray')\n",
    "ax[1].set_title('hierba')\n",
    "plt.show()"
   ]
  },
  {
   "cell_type": "markdown",
   "metadata": {},
   "source": [
    "### MATRIZ DE COOCURRENCIA"
   ]
  },
  {
   "cell_type": "code",
   "execution_count": null,
   "metadata": {},
   "outputs": [],
   "source": [
    "# MATRIZ DE COOCURRENCIA (Gray-Level Cooccurence Matrix - GLCM)\n",
    "from tabulate import tabulate\n",
    "from skimage.feature import greycomatrix, greycoprops\n",
    "headers = ['','cielo', 'hierba']\n",
    "CN, DIS, H, ASM, E, COR = ['contraste'], ['disimilitud'], ['homogeneidad'], ['ASM'], ['Energía'], ['Correlación']\n",
    "\n",
    "patches = []\n",
    "patches.append(cielo)\n",
    "patches.append(hierba)\n",
    "\n",
    "for i in range(len(patches)):\n",
    "    image = cv2.cvtColor(patches[i], cv2.COLOR_BGR2GRAY)\n",
    "    GLCM = greycomatrix(image, distances=[5], angles=[0], levels=256, symmetric=True, normed=True)\n",
    "    CN.append(greycoprops(GLCM, 'contrast')[0,0])\n",
    "    DIS.append(greycoprops(GLCM, 'dissimilarity')[0,0])\n",
    "    H.append(greycoprops(GLCM, 'homogeneity')[0,0])\n",
    "    ASM.append(greycoprops(GLCM, 'ASM')[0,0])\n",
    "    E.append(greycoprops(GLCM, 'energy')[0,0])\n",
    "    COR.append(greycoprops(GLCM, 'correlation')[0,0])\n",
    "\n",
    "my_data = [tuple(CN), tuple(DIS), tuple(H), tuple(ASM), tuple(E), tuple(COR)]\n",
    "\n",
    "print(tabulate(my_data, headers=headers))"
   ]
  },
  {
   "cell_type": "markdown",
   "metadata": {},
   "source": [
    "### Scale-Invariant Feature Transform"
   ]
  },
  {
   "cell_type": "code",
   "execution_count": null,
   "metadata": {},
   "outputs": [],
   "source": [
    "# SIFT algorithm\n",
    "img = cv2.imread('images/photographer.png')\n",
    "\n",
    "# Definición del algoritmo\n",
    "sift = cv2.SIFT_create()\n",
    "\n",
    "# Identificamos los puntos de interés\n",
    "kp = sift.detect(img, None)\n",
    "\n",
    "# Extraemos el descriptor para obtener el fingreprint\n",
    "kp, des = sift.compute(img, kp)\n",
    "print(np.shape(des))\n",
    "# print(des) # Matriz donde las filas son los keypoints y las columnas las características de dichos puntos clave\n",
    "\n",
    "# Visualizamos los puntos de interés\n",
    "img=cv2.drawKeypoints(img, kp, img, flags=cv2.DRAW_MATCHES_FLAGS_DRAW_RICH_KEYPOINTS)\n",
    "plt.imshow(img)\n",
    "plt.show()"
   ]
  },
  {
   "cell_type": "markdown",
   "metadata": {},
   "source": [
    "### Histogram of Oriented Gradients "
   ]
  },
  {
   "cell_type": "code",
   "execution_count": null,
   "metadata": {},
   "outputs": [],
   "source": [
    "# HISTOGRAM OF ORIENTED GRADIENTS\n",
    "\n",
    "# En primer lugar, obtenemos la máscara de la imagen original mediante la umbralización con Otsu\n",
    "from skimage import io\n",
    "img = io.imread('images/pedestrian.jpg')\n",
    "img = np.float32(img/255)\n",
    "crop = img[75:550,475:700]\n",
    "crop = cv2.resize(crop, (64, 128))\n",
    "\n",
    "plt.imshow(crop, cmap='gray')\n",
    "plt.show()"
   ]
  },
  {
   "cell_type": "code",
   "execution_count": null,
   "metadata": {},
   "outputs": [],
   "source": [
    "# Calculamos el gradiente con el kernel de Sobel\n",
    "crop = np.float32(crop)\n",
    "gx = cv2.Sobel(crop, cv2.CV_32F, 1, 0, ksize=1)\n",
    "gy = cv2.Sobel(crop, cv2.CV_32F, 0, 1, ksize=1)\n",
    "\n",
    "# Calculamos la magnitud y la dirección del gradiente\n",
    "mag, angle = cv2.cartToPolar(gx, gy, angleInDegrees=True)\n",
    "\n",
    "# Visualizamos la imagen obtenida en la magnitud del gradiente\n",
    "mag = mag/np.max(mag)\n",
    "plt.imshow(mag, cmap='gray')\n",
    "plt.show()"
   ]
  },
  {
   "cell_type": "code",
   "execution_count": null,
   "metadata": {},
   "outputs": [],
   "source": [
    "# Cálculo del desriptor: Histogram of Oriented Gradients\n",
    "from skimage.feature import hog\n",
    "H = hog(crop, orientations=9, pixels_per_cell=(8, 8), cells_per_block=(2, 2), transform_sqrt=True, block_norm=\"L1\")\n",
    "np.shape(H)"
   ]
  },
  {
   "cell_type": "markdown",
   "metadata": {},
   "source": [
    "### Local Binary Patterns"
   ]
  },
  {
   "cell_type": "code",
   "execution_count": null,
   "metadata": {},
   "outputs": [],
   "source": [
    "# LOCAL BINARY PATTERNS (LBP)\n",
    "from skimage.feature import local_binary_pattern\n",
    "img = cv2.imread('images/photographer.png')\n",
    "\n",
    "# Definimos los parámetros iniciales\n",
    "R = 1 # Radio\n",
    "P = 8*R # Número de píxeles vecinos\n",
    "epsilon = 1e-7 # Para normalizar el histograma\n",
    "\n",
    "# Extraemos la imagen LBP\n",
    "img_gray = cv2.cvtColor(img, cv2.COLOR_BGR2GRAY)\n",
    "lbp_image = local_binary_pattern(img_gray, P, R, method='uniform')\n",
    "a,b = np.unique(lbp_image, return_counts=True)\n",
    "\n",
    "# Calculamos el histograma\n",
    "lbp_image = np.uint8(lbp_image)\n",
    "hist = cv2.calcHist([lbp_image.ravel()], [0], None, [P+2], [0, P+2])\n",
    "\n",
    "# Normalizamos el histograma\n",
    "hist = hist.astype(\"float\")\n",
    "hist /= (hist.sum() + epsilon)\n",
    "\n",
    "# Los P+2=10 bins del histograma serán los 10 atributos que nos permitirán caracterizar una imagen\n",
    "\n",
    "# Visualizamos la imagen LBP\n",
    "figs, ax = plt.subplots(1,2)\n",
    "ax[0].imshow(img, cmap='gray')\n",
    "ax[1].imshow(lbp_image, cmap='gray')\n",
    "plt.show()\n",
    "\n",
    "# Visualizamos el histograma\n",
    "plt.plot(hist)\n",
    "plt.grid(True)\n",
    "plt.show()"
   ]
  }
 ],
 "metadata": {
  "kernelspec": {
   "display_name": "Python 3",
   "language": "python",
   "name": "python3"
  },
  "language_info": {
   "codemirror_mode": {
    "name": "ipython",
    "version": 3
   },
   "file_extension": ".py",
   "mimetype": "text/x-python",
   "name": "python",
   "nbconvert_exporter": "python",
   "pygments_lexer": "ipython3",
   "version": "3.8.5"
  }
 },
 "nbformat": 4,
 "nbformat_minor": 4
}
